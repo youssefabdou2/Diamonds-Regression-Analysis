{
 "cells": [
  {
   "cell_type": "markdown",
   "id": "d817e097-2ea6-4714-8bb6-bd2ac1ef7972",
   "metadata": {},
   "source": [
    "## Diamonds regression"
   ]
  },
  {
   "cell_type": "code",
   "execution_count": 2,
   "id": "ec034d6e-dd48-4473-8f83-20933b7cbeef",
   "metadata": {},
   "outputs": [],
   "source": [
    "import pandas as pd\n",
    "import matplotlib.pyplot as plt\n",
    "import seaborn as sns\n",
    "import numpy as np\n",
    "import scipy.stats as stats\n",
    "import statsmodels.api as sm"
   ]
  },
  {
   "cell_type": "code",
   "execution_count": 3,
   "id": "cf6dcbb0-363d-4d95-a7e0-aca4a7da7e26",
   "metadata": {},
   "outputs": [
    {
     "data": {
      "text/html": [
       "<div>\n",
       "<style scoped>\n",
       "    .dataframe tbody tr th:only-of-type {\n",
       "        vertical-align: middle;\n",
       "    }\n",
       "\n",
       "    .dataframe tbody tr th {\n",
       "        vertical-align: top;\n",
       "    }\n",
       "\n",
       "    .dataframe thead th {\n",
       "        text-align: right;\n",
       "    }\n",
       "</style>\n",
       "<table border=\"1\" class=\"dataframe\">\n",
       "  <thead>\n",
       "    <tr style=\"text-align: right;\">\n",
       "      <th></th>\n",
       "      <th>carat</th>\n",
       "      <th>cut</th>\n",
       "      <th>color</th>\n",
       "      <th>clarity</th>\n",
       "      <th>depth</th>\n",
       "      <th>table</th>\n",
       "      <th>price</th>\n",
       "      <th>x</th>\n",
       "      <th>y</th>\n",
       "      <th>z</th>\n",
       "    </tr>\n",
       "  </thead>\n",
       "  <tbody>\n",
       "    <tr>\n",
       "      <th>0</th>\n",
       "      <td>0.23</td>\n",
       "      <td>Ideal</td>\n",
       "      <td>E</td>\n",
       "      <td>SI2</td>\n",
       "      <td>61.5</td>\n",
       "      <td>55.0</td>\n",
       "      <td>326</td>\n",
       "      <td>3.95</td>\n",
       "      <td>3.98</td>\n",
       "      <td>2.43</td>\n",
       "    </tr>\n",
       "    <tr>\n",
       "      <th>1</th>\n",
       "      <td>0.21</td>\n",
       "      <td>Premium</td>\n",
       "      <td>E</td>\n",
       "      <td>SI1</td>\n",
       "      <td>59.8</td>\n",
       "      <td>61.0</td>\n",
       "      <td>326</td>\n",
       "      <td>3.89</td>\n",
       "      <td>3.84</td>\n",
       "      <td>2.31</td>\n",
       "    </tr>\n",
       "    <tr>\n",
       "      <th>2</th>\n",
       "      <td>0.23</td>\n",
       "      <td>Good</td>\n",
       "      <td>E</td>\n",
       "      <td>VS1</td>\n",
       "      <td>56.9</td>\n",
       "      <td>65.0</td>\n",
       "      <td>327</td>\n",
       "      <td>4.05</td>\n",
       "      <td>4.07</td>\n",
       "      <td>2.31</td>\n",
       "    </tr>\n",
       "    <tr>\n",
       "      <th>3</th>\n",
       "      <td>0.29</td>\n",
       "      <td>Premium</td>\n",
       "      <td>I</td>\n",
       "      <td>VS2</td>\n",
       "      <td>62.4</td>\n",
       "      <td>58.0</td>\n",
       "      <td>334</td>\n",
       "      <td>4.20</td>\n",
       "      <td>4.23</td>\n",
       "      <td>2.63</td>\n",
       "    </tr>\n",
       "    <tr>\n",
       "      <th>4</th>\n",
       "      <td>0.31</td>\n",
       "      <td>Good</td>\n",
       "      <td>J</td>\n",
       "      <td>SI2</td>\n",
       "      <td>63.3</td>\n",
       "      <td>58.0</td>\n",
       "      <td>335</td>\n",
       "      <td>4.34</td>\n",
       "      <td>4.35</td>\n",
       "      <td>2.75</td>\n",
       "    </tr>\n",
       "  </tbody>\n",
       "</table>\n",
       "</div>"
      ],
      "text/plain": [
       "   carat      cut color clarity  depth  table  price     x     y     z\n",
       "0   0.23    Ideal     E     SI2   61.5   55.0    326  3.95  3.98  2.43\n",
       "1   0.21  Premium     E     SI1   59.8   61.0    326  3.89  3.84  2.31\n",
       "2   0.23     Good     E     VS1   56.9   65.0    327  4.05  4.07  2.31\n",
       "3   0.29  Premium     I     VS2   62.4   58.0    334  4.20  4.23  2.63\n",
       "4   0.31     Good     J     SI2   63.3   58.0    335  4.34  4.35  2.75"
      ]
     },
     "execution_count": 3,
     "metadata": {},
     "output_type": "execute_result"
    }
   ],
   "source": [
    "df = pd.read_csv(\"diamonds.csv\")\n",
    "df.head()"
   ]
  },
  {
   "cell_type": "code",
   "execution_count": 4,
   "id": "3b98d256-2508-4e6c-9840-abba8f3be474",
   "metadata": {},
   "outputs": [
    {
     "name": "stdout",
     "output_type": "stream",
     "text": [
      "                            OLS Regression Results                            \n",
      "==============================================================================\n",
      "Dep. Variable:                  price   R-squared:                       0.849\n",
      "Model:                            OLS   Adj. R-squared:                  0.849\n",
      "Method:                 Least Squares   F-statistic:                 3.041e+05\n",
      "Date:                Sat, 11 Jan 2025   Prob (F-statistic):               0.00\n",
      "Time:                        18:49:14   Log-Likelihood:            -4.7273e+05\n",
      "No. Observations:               53940   AIC:                         9.455e+05\n",
      "Df Residuals:                   53938   BIC:                         9.455e+05\n",
      "Df Model:                           1                                         \n",
      "Covariance Type:            nonrobust                                         \n",
      "==============================================================================\n",
      "                 coef    std err          t      P>|t|      [0.025      0.975]\n",
      "------------------------------------------------------------------------------\n",
      "const      -2256.3606     13.055   -172.830      0.000   -2281.949   -2230.772\n",
      "carat       7756.4256     14.067    551.408      0.000    7728.855    7783.996\n",
      "==============================================================================\n",
      "Omnibus:                    14025.341   Durbin-Watson:                   0.986\n",
      "Prob(Omnibus):                  0.000   Jarque-Bera (JB):           153030.525\n",
      "Skew:                           0.939   Prob(JB):                         0.00\n",
      "Kurtosis:                      11.035   Cond. No.                         3.65\n",
      "==============================================================================\n",
      "\n",
      "Notes:\n",
      "[1] Standard Errors assume that the covariance matrix of the errors is correctly specified.\n"
     ]
    }
   ],
   "source": [
    "Y = df[\"price\"]\n",
    "X = sm.add_constant(df[\"carat\"])\n",
    "model = sm.OLS(Y, X).fit()\n",
    "print(model.summary())"
   ]
  },
  {
   "cell_type": "code",
   "execution_count": 5,
   "id": "1124e343-91dc-49dc-a2e4-acac754c7989",
   "metadata": {},
   "outputs": [
    {
     "data": {
      "text/html": [
       "<div>\n",
       "<style scoped>\n",
       "    .dataframe tbody tr th:only-of-type {\n",
       "        vertical-align: middle;\n",
       "    }\n",
       "\n",
       "    .dataframe tbody tr th {\n",
       "        vertical-align: top;\n",
       "    }\n",
       "\n",
       "    .dataframe thead th {\n",
       "        text-align: right;\n",
       "    }\n",
       "</style>\n",
       "<table border=\"1\" class=\"dataframe\">\n",
       "  <thead>\n",
       "    <tr style=\"text-align: right;\">\n",
       "      <th></th>\n",
       "      <th>const</th>\n",
       "      <th>carat</th>\n",
       "      <th>x</th>\n",
       "    </tr>\n",
       "  </thead>\n",
       "  <tbody>\n",
       "    <tr>\n",
       "      <th>0</th>\n",
       "      <td>1.0</td>\n",
       "      <td>0.23</td>\n",
       "      <td>3.95</td>\n",
       "    </tr>\n",
       "    <tr>\n",
       "      <th>1</th>\n",
       "      <td>1.0</td>\n",
       "      <td>0.21</td>\n",
       "      <td>3.89</td>\n",
       "    </tr>\n",
       "    <tr>\n",
       "      <th>2</th>\n",
       "      <td>1.0</td>\n",
       "      <td>0.23</td>\n",
       "      <td>4.05</td>\n",
       "    </tr>\n",
       "    <tr>\n",
       "      <th>3</th>\n",
       "      <td>1.0</td>\n",
       "      <td>0.29</td>\n",
       "      <td>4.20</td>\n",
       "    </tr>\n",
       "    <tr>\n",
       "      <th>4</th>\n",
       "      <td>1.0</td>\n",
       "      <td>0.31</td>\n",
       "      <td>4.34</td>\n",
       "    </tr>\n",
       "    <tr>\n",
       "      <th>...</th>\n",
       "      <td>...</td>\n",
       "      <td>...</td>\n",
       "      <td>...</td>\n",
       "    </tr>\n",
       "    <tr>\n",
       "      <th>53935</th>\n",
       "      <td>1.0</td>\n",
       "      <td>0.72</td>\n",
       "      <td>5.75</td>\n",
       "    </tr>\n",
       "    <tr>\n",
       "      <th>53936</th>\n",
       "      <td>1.0</td>\n",
       "      <td>0.72</td>\n",
       "      <td>5.69</td>\n",
       "    </tr>\n",
       "    <tr>\n",
       "      <th>53937</th>\n",
       "      <td>1.0</td>\n",
       "      <td>0.70</td>\n",
       "      <td>5.66</td>\n",
       "    </tr>\n",
       "    <tr>\n",
       "      <th>53938</th>\n",
       "      <td>1.0</td>\n",
       "      <td>0.86</td>\n",
       "      <td>6.15</td>\n",
       "    </tr>\n",
       "    <tr>\n",
       "      <th>53939</th>\n",
       "      <td>1.0</td>\n",
       "      <td>0.75</td>\n",
       "      <td>5.83</td>\n",
       "    </tr>\n",
       "  </tbody>\n",
       "</table>\n",
       "<p>53940 rows × 3 columns</p>\n",
       "</div>"
      ],
      "text/plain": [
       "       const  carat     x\n",
       "0        1.0   0.23  3.95\n",
       "1        1.0   0.21  3.89\n",
       "2        1.0   0.23  4.05\n",
       "3        1.0   0.29  4.20\n",
       "4        1.0   0.31  4.34\n",
       "...      ...    ...   ...\n",
       "53935    1.0   0.72  5.75\n",
       "53936    1.0   0.72  5.69\n",
       "53937    1.0   0.70  5.66\n",
       "53938    1.0   0.86  6.15\n",
       "53939    1.0   0.75  5.83\n",
       "\n",
       "[53940 rows x 3 columns]"
      ]
     },
     "execution_count": 5,
     "metadata": {},
     "output_type": "execute_result"
    }
   ],
   "source": [
    "predictors = [\n",
    "    \"carat\",\n",
    "    \"x\"\n",
    "]\n",
    "\n",
    "Y = df[\"price\"]\n",
    "X = sm.add_constant(df[predictors])\n",
    "X"
   ]
  },
  {
   "cell_type": "code",
   "execution_count": 6,
   "id": "ae087cb4-67be-4d4e-836c-644005e24ad1",
   "metadata": {},
   "outputs": [
    {
     "name": "stdout",
     "output_type": "stream",
     "text": [
      "                            OLS Regression Results                            \n",
      "==============================================================================\n",
      "Dep. Variable:                  price   R-squared:                       0.853\n",
      "Model:                            OLS   Adj. R-squared:                  0.853\n",
      "Method:                 Least Squares   F-statistic:                 1.570e+05\n",
      "Date:                Sat, 11 Jan 2025   Prob (F-statistic):               0.00\n",
      "Time:                        18:49:14   Log-Likelihood:            -4.7199e+05\n",
      "No. Observations:               53940   AIC:                         9.440e+05\n",
      "Df Residuals:                   53937   BIC:                         9.440e+05\n",
      "Df Model:                           2                                         \n",
      "Covariance Type:            nonrobust                                         \n",
      "==============================================================================\n",
      "                 coef    std err          t      P>|t|      [0.025      0.975]\n",
      "------------------------------------------------------------------------------\n",
      "const       1737.9497    103.623     16.772      0.000    1534.848    1941.051\n",
      "carat       1.013e+04     62.554    161.875      0.000       1e+04    1.02e+04\n",
      "x          -1026.8569     26.433    -38.848      0.000   -1078.666    -975.048\n",
      "==============================================================================\n",
      "Omnibus:                    14013.447   Durbin-Watson:                   1.186\n",
      "Prob(Omnibus):                  0.000   Jarque-Bera (JB):           317502.525\n",
      "Skew:                           0.717   Prob(JB):                         0.00\n",
      "Kurtosis:                      14.799   Cond. No.                         112.\n",
      "==============================================================================\n",
      "\n",
      "Notes:\n",
      "[1] Standard Errors assume that the covariance matrix of the errors is correctly specified.\n"
     ]
    }
   ],
   "source": [
    "predictors = [\n",
    "    \"carat\",\n",
    "    \"x\"\n",
    "]\n",
    "\n",
    "Y = df[\"price\"]\n",
    "X = sm.add_constant(df[predictors])\n",
    "model = sm.OLS(Y, X).fit()\n",
    "print(model.summary())"
   ]
  },
  {
   "cell_type": "code",
   "execution_count": 7,
   "id": "a0e6eefe-6e66-4791-bdcc-7a4d089129d7",
   "metadata": {},
   "outputs": [
    {
     "name": "stdout",
     "output_type": "stream",
     "text": [
      "                            OLS Regression Results                            \n",
      "==============================================================================\n",
      "Dep. Variable:                  price   R-squared:                       0.854\n",
      "Model:                            OLS   Adj. R-squared:                  0.854\n",
      "Method:                 Least Squares   F-statistic:                 7.892e+04\n",
      "Date:                Sat, 11 Jan 2025   Prob (F-statistic):               0.00\n",
      "Time:                        18:49:14   Log-Likelihood:            -4.7187e+05\n",
      "No. Observations:               53940   AIC:                         9.437e+05\n",
      "Df Residuals:                   53935   BIC:                         9.438e+05\n",
      "Df Model:                           4                                         \n",
      "Covariance Type:            nonrobust                                         \n",
      "==============================================================================\n",
      "                 coef    std err          t      P>|t|      [0.025      0.975]\n",
      "------------------------------------------------------------------------------\n",
      "const       1921.1740    104.373     18.407      0.000    1716.601    2125.747\n",
      "carat       1.023e+04     62.937    162.607      0.000    1.01e+04    1.04e+04\n",
      "x           -884.2091     40.470    -21.848      0.000    -963.532    -804.887\n",
      "y            166.0384     25.858      6.421      0.000     115.356     216.721\n",
      "z           -576.2035     39.282    -14.668      0.000    -653.197    -499.210\n",
      "==============================================================================\n",
      "Omnibus:                    14400.324   Durbin-Watson:                   1.198\n",
      "Prob(Omnibus):                  0.000   Jarque-Bera (JB):           336485.128\n",
      "Skew:                           0.743   Prob(JB):                         0.00\n",
      "Kurtosis:                      15.145   Cond. No.                         171.\n",
      "==============================================================================\n",
      "\n",
      "Notes:\n",
      "[1] Standard Errors assume that the covariance matrix of the errors is correctly specified.\n"
     ]
    }
   ],
   "source": [
    "predictors = [\n",
    "    \"carat\",\n",
    "    \"x\",\n",
    "    \"y\",\n",
    "    \"z\"\n",
    "]\n",
    "\n",
    "Y = df[\"price\"]\n",
    "X = sm.add_constant(df[predictors])\n",
    "model = sm.OLS(Y, X).fit()\n",
    "print(model.summary())"
   ]
  },
  {
   "cell_type": "markdown",
   "id": "39004061-496b-435f-a4e7-dabf66d35b28",
   "metadata": {},
   "source": [
    "# l3v3 - encoding categorical data"
   ]
  },
  {
   "cell_type": "code",
   "execution_count": 9,
   "id": "048a633e-24ac-478e-9cfd-f01b457be346",
   "metadata": {},
   "outputs": [
    {
     "name": "stdout",
     "output_type": "stream",
     "text": [
      "['D' 'E' 'F' 'G' 'H' 'I' 'J']\n"
     ]
    }
   ],
   "source": [
    "print(pd.unique(df[\"color\"].sort_values()))"
   ]
  },
  {
   "cell_type": "code",
   "execution_count": 10,
   "id": "4f1c9d2f-12d6-4f1d-ba9d-97e0c3a5fcc4",
   "metadata": {},
   "outputs": [
    {
     "name": "stderr",
     "output_type": "stream",
     "text": [
      "/var/folders/d5/37zfrn316_7_8btbyp21wlq40000gn/T/ipykernel_85085/2185394216.py:5: FutureWarning: \n",
      "\n",
      "Passing `palette` without assigning `hue` is deprecated and will be removed in v0.14.0. Assign the `x` variable to `hue` and set `legend=False` for the same effect.\n",
      "\n",
      "  sns.barplot(df, x=\"color\", y=\"price\", order=color_order, palette=\"YlOrBr\")\n"
     ]
    },
    {
     "data": {
      "image/png": "[encoded data removed]",
      "text/plain": [
       "<Figure size 640x480 with 1 Axes>"
      ]
     },
     "metadata": {},
     "output_type": "display_data"
    }
   ],
   "source": [
    "# Set the order of colors from D to J\n",
    "color_order = [\"D\", \"E\", \"F\", \"G\", \"H\", \"I\", \"J\"]\n",
    "\n",
    "# Create the barplot\n",
    "sns.barplot(df, x=\"color\", y=\"price\", order=color_order, palette=\"YlOrBr\")\n",
    "\n",
    "# Customize plot\n",
    "plt.title(\"Average Price by Diamond Color\")\n",
    "plt.xlabel(\"Color\")\n",
    "plt.ylabel(\"Average Price\")\n",
    "plt.show()"
   ]
  },
  {
   "cell_type": "code",
   "execution_count": 11,
   "id": "e10be2d7-7687-4d1b-89a3-31d9d3082cb2",
   "metadata": {},
   "outputs": [],
   "source": [
    "color_dummies = pd.get_dummies(df[\"color\"], drop_first=True)"
   ]
  },
  {
   "cell_type": "code",
   "execution_count": 12,
   "id": "32dc3002-93b8-42ac-89ab-db238f3d1c95",
   "metadata": {},
   "outputs": [
    {
     "data": {
      "text/plain": [
       "pandas.core.frame.DataFrame"
      ]
     },
     "execution_count": 12,
     "metadata": {},
     "output_type": "execute_result"
    }
   ],
   "source": [
    "type(color_dummies)"
   ]
  },
  {
   "cell_type": "code",
   "execution_count": 13,
   "id": "93ba279d-30b4-49a6-84b7-d691b0ca23b9",
   "metadata": {},
   "outputs": [
    {
     "data": {
      "text/html": [
       "<div>\n",
       "<style scoped>\n",
       "    .dataframe tbody tr th:only-of-type {\n",
       "        vertical-align: middle;\n",
       "    }\n",
       "\n",
       "    .dataframe tbody tr th {\n",
       "        vertical-align: top;\n",
       "    }\n",
       "\n",
       "    .dataframe thead th {\n",
       "        text-align: right;\n",
       "    }\n",
       "</style>\n",
       "<table border=\"1\" class=\"dataframe\">\n",
       "  <thead>\n",
       "    <tr style=\"text-align: right;\">\n",
       "      <th></th>\n",
       "      <th>E</th>\n",
       "      <th>F</th>\n",
       "      <th>G</th>\n",
       "      <th>H</th>\n",
       "      <th>I</th>\n",
       "      <th>J</th>\n",
       "    </tr>\n",
       "  </thead>\n",
       "  <tbody>\n",
       "    <tr>\n",
       "      <th>0</th>\n",
       "      <td>True</td>\n",
       "      <td>False</td>\n",
       "      <td>False</td>\n",
       "      <td>False</td>\n",
       "      <td>False</td>\n",
       "      <td>False</td>\n",
       "    </tr>\n",
       "    <tr>\n",
       "      <th>1</th>\n",
       "      <td>True</td>\n",
       "      <td>False</td>\n",
       "      <td>False</td>\n",
       "      <td>False</td>\n",
       "      <td>False</td>\n",
       "      <td>False</td>\n",
       "    </tr>\n",
       "    <tr>\n",
       "      <th>2</th>\n",
       "      <td>True</td>\n",
       "      <td>False</td>\n",
       "      <td>False</td>\n",
       "      <td>False</td>\n",
       "      <td>False</td>\n",
       "      <td>False</td>\n",
       "    </tr>\n",
       "    <tr>\n",
       "      <th>3</th>\n",
       "      <td>False</td>\n",
       "      <td>False</td>\n",
       "      <td>False</td>\n",
       "      <td>False</td>\n",
       "      <td>True</td>\n",
       "      <td>False</td>\n",
       "    </tr>\n",
       "    <tr>\n",
       "      <th>4</th>\n",
       "      <td>False</td>\n",
       "      <td>False</td>\n",
       "      <td>False</td>\n",
       "      <td>False</td>\n",
       "      <td>False</td>\n",
       "      <td>True</td>\n",
       "    </tr>\n",
       "  </tbody>\n",
       "</table>\n",
       "</div>"
      ],
      "text/plain": [
       "       E      F      G      H      I      J\n",
       "0   True  False  False  False  False  False\n",
       "1   True  False  False  False  False  False\n",
       "2   True  False  False  False  False  False\n",
       "3  False  False  False  False   True  False\n",
       "4  False  False  False  False  False   True"
      ]
     },
     "execution_count": 13,
     "metadata": {},
     "output_type": "execute_result"
    }
   ],
   "source": [
    "color_dummies.head()"
   ]
  },
  {
   "cell_type": "code",
   "execution_count": 14,
   "id": "101cccba-07f0-457f-b3af-2f083d482800",
   "metadata": {},
   "outputs": [
    {
     "data": {
      "text/html": [
       "<div>\n",
       "<style scoped>\n",
       "    .dataframe tbody tr th:only-of-type {\n",
       "        vertical-align: middle;\n",
       "    }\n",
       "\n",
       "    .dataframe tbody tr th {\n",
       "        vertical-align: top;\n",
       "    }\n",
       "\n",
       "    .dataframe thead th {\n",
       "        text-align: right;\n",
       "    }\n",
       "</style>\n",
       "<table border=\"1\" class=\"dataframe\">\n",
       "  <thead>\n",
       "    <tr style=\"text-align: right;\">\n",
       "      <th></th>\n",
       "      <th>E</th>\n",
       "      <th>F</th>\n",
       "      <th>G</th>\n",
       "      <th>H</th>\n",
       "      <th>I</th>\n",
       "      <th>J</th>\n",
       "    </tr>\n",
       "  </thead>\n",
       "  <tbody>\n",
       "    <tr>\n",
       "      <th>0</th>\n",
       "      <td>1</td>\n",
       "      <td>0</td>\n",
       "      <td>0</td>\n",
       "      <td>0</td>\n",
       "      <td>0</td>\n",
       "      <td>0</td>\n",
       "    </tr>\n",
       "    <tr>\n",
       "      <th>1</th>\n",
       "      <td>1</td>\n",
       "      <td>0</td>\n",
       "      <td>0</td>\n",
       "      <td>0</td>\n",
       "      <td>0</td>\n",
       "      <td>0</td>\n",
       "    </tr>\n",
       "    <tr>\n",
       "      <th>2</th>\n",
       "      <td>1</td>\n",
       "      <td>0</td>\n",
       "      <td>0</td>\n",
       "      <td>0</td>\n",
       "      <td>0</td>\n",
       "      <td>0</td>\n",
       "    </tr>\n",
       "    <tr>\n",
       "      <th>3</th>\n",
       "      <td>0</td>\n",
       "      <td>0</td>\n",
       "      <td>0</td>\n",
       "      <td>0</td>\n",
       "      <td>1</td>\n",
       "      <td>0</td>\n",
       "    </tr>\n",
       "    <tr>\n",
       "      <th>4</th>\n",
       "      <td>0</td>\n",
       "      <td>0</td>\n",
       "      <td>0</td>\n",
       "      <td>0</td>\n",
       "      <td>0</td>\n",
       "      <td>1</td>\n",
       "    </tr>\n",
       "  </tbody>\n",
       "</table>\n",
       "</div>"
      ],
      "text/plain": [
       "   E  F  G  H  I  J\n",
       "0  1  0  0  0  0  0\n",
       "1  1  0  0  0  0  0\n",
       "2  1  0  0  0  0  0\n",
       "3  0  0  0  0  1  0\n",
       "4  0  0  0  0  0  1"
      ]
     },
     "execution_count": 14,
     "metadata": {},
     "output_type": "execute_result"
    }
   ],
   "source": [
    "color_dummies = color_dummies.astype(int)\n",
    "color_dummies.head()"
   ]
  },
  {
   "cell_type": "markdown",
   "id": "47a37722-1490-4ba8-85c6-c971a10f787e",
   "metadata": {},
   "source": [
    "# l3v4 - modeling with categorical data"
   ]
  },
  {
   "cell_type": "code",
   "execution_count": 16,
   "id": "a2e9652c-f8bf-451b-9c16-60fc89224dd6",
   "metadata": {},
   "outputs": [
    {
     "data": {
      "text/html": [
       "<div>\n",
       "<style scoped>\n",
       "    .dataframe tbody tr th:only-of-type {\n",
       "        vertical-align: middle;\n",
       "    }\n",
       "\n",
       "    .dataframe tbody tr th {\n",
       "        vertical-align: top;\n",
       "    }\n",
       "\n",
       "    .dataframe thead th {\n",
       "        text-align: right;\n",
       "    }\n",
       "</style>\n",
       "<table border=\"1\" class=\"dataframe\">\n",
       "  <thead>\n",
       "    <tr style=\"text-align: right;\">\n",
       "      <th></th>\n",
       "      <th>E</th>\n",
       "      <th>F</th>\n",
       "      <th>G</th>\n",
       "      <th>H</th>\n",
       "      <th>I</th>\n",
       "      <th>J</th>\n",
       "      <th>carat</th>\n",
       "    </tr>\n",
       "  </thead>\n",
       "  <tbody>\n",
       "    <tr>\n",
       "      <th>0</th>\n",
       "      <td>1</td>\n",
       "      <td>0</td>\n",
       "      <td>0</td>\n",
       "      <td>0</td>\n",
       "      <td>0</td>\n",
       "      <td>0</td>\n",
       "      <td>0.23</td>\n",
       "    </tr>\n",
       "    <tr>\n",
       "      <th>1</th>\n",
       "      <td>1</td>\n",
       "      <td>0</td>\n",
       "      <td>0</td>\n",
       "      <td>0</td>\n",
       "      <td>0</td>\n",
       "      <td>0</td>\n",
       "      <td>0.21</td>\n",
       "    </tr>\n",
       "    <tr>\n",
       "      <th>2</th>\n",
       "      <td>1</td>\n",
       "      <td>0</td>\n",
       "      <td>0</td>\n",
       "      <td>0</td>\n",
       "      <td>0</td>\n",
       "      <td>0</td>\n",
       "      <td>0.23</td>\n",
       "    </tr>\n",
       "    <tr>\n",
       "      <th>3</th>\n",
       "      <td>0</td>\n",
       "      <td>0</td>\n",
       "      <td>0</td>\n",
       "      <td>0</td>\n",
       "      <td>1</td>\n",
       "      <td>0</td>\n",
       "      <td>0.29</td>\n",
       "    </tr>\n",
       "    <tr>\n",
       "      <th>4</th>\n",
       "      <td>0</td>\n",
       "      <td>0</td>\n",
       "      <td>0</td>\n",
       "      <td>0</td>\n",
       "      <td>0</td>\n",
       "      <td>1</td>\n",
       "      <td>0.31</td>\n",
       "    </tr>\n",
       "  </tbody>\n",
       "</table>\n",
       "</div>"
      ],
      "text/plain": [
       "   E  F  G  H  I  J  carat\n",
       "0  1  0  0  0  0  0   0.23\n",
       "1  1  0  0  0  0  0   0.21\n",
       "2  1  0  0  0  0  0   0.23\n",
       "3  0  0  0  0  1  0   0.29\n",
       "4  0  0  0  0  0  1   0.31"
      ]
     },
     "execution_count": 16,
     "metadata": {},
     "output_type": "execute_result"
    }
   ],
   "source": [
    "color_dummies[\"carat\"] = df[\"carat\"]\n",
    "color_dummies.head()"
   ]
  },
  {
   "cell_type": "code",
   "execution_count": 17,
   "id": "3b0a9832-49bb-4115-bbd0-62d0c239994a",
   "metadata": {},
   "outputs": [],
   "source": [
    "Y = df[\"price\"]\n",
    "X = sm.add_constant(color_dummies)\n",
    "X_test = X[:1000]\n",
    "X_train = X[1000:]\n",
    "Y_test = Y[:1000]\n",
    "Y_train = Y[1000:]"
   ]
  },
  {
   "cell_type": "code",
   "execution_count": 18,
   "id": "ec89ea92-e619-4e29-9351-5d318d07c122",
   "metadata": {
    "scrolled": true
   },
   "outputs": [
    {
     "name": "stdout",
     "output_type": "stream",
     "text": [
      "1000\n",
      "1000\n"
     ]
    }
   ],
   "source": [
    "print(len(X_test))\n",
    "print(len(Y_test))"
   ]
  },
  {
   "cell_type": "code",
   "execution_count": 19,
   "id": "7b0e274b-1e1c-4ca7-b41b-9ac05f4747af",
   "metadata": {},
   "outputs": [
    {
     "name": "stdout",
     "output_type": "stream",
     "text": [
      "52940\n",
      "52940\n"
     ]
    }
   ],
   "source": [
    "print(len(X_train))\n",
    "print(len(Y_train))"
   ]
  },
  {
   "cell_type": "code",
   "execution_count": 20,
   "id": "e1cca37d-cf9c-4119-82fc-0fd9d96934f9",
   "metadata": {},
   "outputs": [],
   "source": [
    "model = sm.OLS(Y_train, X_train)"
   ]
  },
  {
   "cell_type": "code",
   "execution_count": 21,
   "id": "9cde53e0-d1b3-47bf-9782-3eb84984363f",
   "metadata": {},
   "outputs": [
    {
     "name": "stdout",
     "output_type": "stream",
     "text": [
      "                            OLS Regression Results                            \n",
      "==============================================================================\n",
      "Dep. Variable:                  price   R-squared:                       0.865\n",
      "Model:                            OLS   Adj. R-squared:                  0.865\n",
      "Method:                 Least Squares   F-statistic:                 4.846e+04\n",
      "Date:                Sat, 11 Jan 2025   Prob (F-statistic):               0.00\n",
      "Time:                        18:49:14   Log-Likelihood:            -4.6146e+05\n",
      "No. Observations:               52940   AIC:                         9.229e+05\n",
      "Df Residuals:                   52932   BIC:                         9.230e+05\n",
      "Df Model:                           7                                         \n",
      "Covariance Type:            nonrobust                                         \n",
      "==============================================================================\n",
      "                 coef    std err          t      P>|t|      [0.025      0.975]\n",
      "------------------------------------------------------------------------------\n",
      "const      -2131.4370     20.364   -104.667      0.000   -2171.351   -2091.523\n",
      "E            -91.3447     23.592     -3.872      0.000    -137.586     -45.103\n",
      "F            -74.8188     23.744     -3.151      0.002    -121.357     -28.281\n",
      "G            -88.7869     22.947     -3.869      0.000    -133.762     -43.811\n",
      "H           -740.1329     24.664    -30.009      0.000    -788.474    -691.792\n",
      "I          -1069.9171     27.679    -38.655      0.000   -1124.168   -1015.666\n",
      "J          -1936.5483     34.214    -56.601      0.000   -2003.608   -1869.489\n",
      "carat       8079.0102     14.135    571.554      0.000    8051.305    8106.715\n",
      "==============================================================================\n",
      "Omnibus:                    11837.381   Durbin-Watson:                   0.953\n",
      "Prob(Omnibus):                  0.000   Jarque-Bera (JB):           161342.084\n",
      "Skew:                           0.696   Prob(JB):                         0.00\n",
      "Kurtosis:                      11.438   Cond. No.                         11.0\n",
      "==============================================================================\n",
      "\n",
      "Notes:\n",
      "[1] Standard Errors assume that the covariance matrix of the errors is correctly specified.\n"
     ]
    }
   ],
   "source": [
    "results = model.fit()\n",
    "print(results.summary())"
   ]
  },
  {
   "cell_type": "code",
   "execution_count": 22,
   "id": "2ce00795-70f1-453d-a429-45f5f31d54b9",
   "metadata": {},
   "outputs": [
    {
     "data": {
      "image/png": "[encoded data removed]",
      "text/plain": [
       "<Figure size 640x480 with 1 Axes>"
      ]
     },
     "metadata": {},
     "output_type": "display_data"
    }
   ],
   "source": [
    "sns.scatterplot(data=df, x=\"x\", y=\"price\", alpha=0.6, edgecolor=None)\n",
    "\n",
    "# Label and title\n",
    "plt.title(\"Relationship between x and Price\", fontsize=14)\n",
    "plt.xlabel(\"x\", fontsize=12)\n",
    "plt.ylabel(\"Price\", fontsize=12)\n",
    "\n",
    "# Display the plot\n",
    "plt.show()"
   ]
  },
  {
   "cell_type": "code",
   "execution_count": 23,
   "id": "909400da-7625-4687-b2f7-2f00192dc4e3",
   "metadata": {},
   "outputs": [
    {
     "name": "stderr",
     "output_type": "stream",
     "text": [
      "/var/folders/d5/37zfrn316_7_8btbyp21wlq40000gn/T/ipykernel_85085/2593005274.py:1: FutureWarning: \n",
      "\n",
      "Passing `palette` without assigning `hue` is deprecated and will be removed in v0.14.0. Assign the `x` variable to `hue` and set `legend=False` for the same effect.\n",
      "\n",
      "  sns.barplot(df, x=\"color\", y=\"carat\", order=color_order, palette=\"YlOrBr\")\n"
     ]
    },
    {
     "data": {
      "image/png": "[encoded data removed]",
      "text/plain": [
       "<Figure size 640x480 with 1 Axes>"
      ]
     },
     "metadata": {},
     "output_type": "display_data"
    }
   ],
   "source": [
    "sns.barplot(df, x=\"color\", y=\"carat\", order=color_order, palette=\"YlOrBr\")\n",
    "plt.show()"
   ]
  },
  {
   "cell_type": "markdown",
   "id": "b03e12fe-8d84-4bb3-a728-30d4a05f7f37",
   "metadata": {},
   "source": [
    "# l3v5 - prediction"
   ]
  },
  {
   "cell_type": "code",
   "execution_count": 25,
   "id": "e591469d-3c8d-4385-a10f-b9cf66b4341b",
   "metadata": {},
   "outputs": [
    {
     "data": {
      "text/plain": [
       "const    1.00\n",
       "E        1.00\n",
       "F        0.00\n",
       "G        0.00\n",
       "H        0.00\n",
       "I        0.00\n",
       "J        0.00\n",
       "carat    0.23\n",
       "Name: 0, dtype: float64"
      ]
     },
     "execution_count": 25,
     "metadata": {},
     "output_type": "execute_result"
    }
   ],
   "source": [
    "diamond1 = X_test.loc[0]\n",
    "diamond1"
   ]
  },
  {
   "cell_type": "code",
   "execution_count": 26,
   "id": "5957d3b3-c9a0-4da4-92d4-a8c5f945f7b7",
   "metadata": {},
   "outputs": [
    {
     "data": {
      "text/plain": [
       "None   -364.609393\n",
       "dtype: float64"
      ]
     },
     "execution_count": 26,
     "metadata": {},
     "output_type": "execute_result"
    }
   ],
   "source": [
    "results.predict(diamond1)"
   ]
  },
  {
   "cell_type": "code",
   "execution_count": 27,
   "id": "7075d695-bf32-4a12-a189-928978e18ff0",
   "metadata": {},
   "outputs": [
    {
     "data": {
      "text/plain": [
       "np.int64(326)"
      ]
     },
     "execution_count": 27,
     "metadata": {},
     "output_type": "execute_result"
    }
   ],
   "source": [
    "Y_test.loc[0]"
   ]
  },
  {
   "cell_type": "code",
   "execution_count": 28,
   "id": "f6d5f6fb-0171-4668-bcc9-b7600f28078c",
   "metadata": {},
   "outputs": [],
   "source": [
    "predicted = results.predict(X_test)"
   ]
  },
  {
   "cell_type": "code",
   "execution_count": 29,
   "id": "3d29ed63-0a63-4f24-805c-1b0c67677da9",
   "metadata": {},
   "outputs": [
    {
     "data": {
      "text/plain": [
       "198    3432.525411\n",
       "821    3504.224316\n",
       "425    1914.039411\n",
       "638    3677.453508\n",
       "800    7633.610726\n",
       "105    3839.033712\n",
       "654    4958.446156\n",
       "966    4076.378908\n",
       "278    4337.742477\n",
       "225    3685.450342\n",
       "dtype: float64"
      ]
     },
     "execution_count": 29,
     "metadata": {},
     "output_type": "execute_result"
    }
   ],
   "source": [
    "predicted.sample(10)"
   ]
  },
  {
   "cell_type": "code",
   "execution_count": 30,
   "id": "cbd3d76f-b724-4a87-9c82-18b2f1e5db57",
   "metadata": {},
   "outputs": [
    {
     "data": {
      "text/plain": [
       "count    1000.000000\n",
       "mean     3102.850025\n",
       "std      1641.194016\n",
       "min     -2209.812958\n",
       "25%      3026.107579\n",
       "50%      3523.870137\n",
       "75%      3868.451074\n",
       "max      7633.610726\n",
       "dtype: float64"
      ]
     },
     "execution_count": 30,
     "metadata": {},
     "output_type": "execute_result"
    }
   ],
   "source": [
    "predicted.describe()"
   ]
  },
  {
   "cell_type": "markdown",
   "id": "27bc5c61-3677-4863-91ad-7d316d5436ce",
   "metadata": {},
   "source": [
    "# l3v6 - model errors"
   ]
  },
  {
   "cell_type": "code",
   "execution_count": 50,
   "id": "9ab4c09e-e4fa-4b1b-8243-f078886ab66b",
   "metadata": {},
   "outputs": [
    {
     "data": {
      "text/plain": [
       "0    -364.609393\n",
       "1    -526.189598\n",
       "2    -364.609393\n",
       "3    -858.441203\n",
       "4   -1563.492140\n",
       "dtype: float64"
      ]
     },
     "execution_count": 50,
     "metadata": {},
     "output_type": "execute_result"
    }
   ],
   "source": [
    "y_pred = results.predict(X_test)\n",
    "y_pred.head()"
   ]
  },
  {
   "cell_type": "code",
   "execution_count": 52,
   "id": "1aac13c5-5705-4d2b-a126-5d4c3fcc7261",
   "metadata": {},
   "outputs": [
    {
     "data": {
      "text/plain": [
       "0    326\n",
       "1    326\n",
       "2    327\n",
       "3    334\n",
       "4    335\n",
       "Name: price, dtype: int64"
      ]
     },
     "execution_count": 52,
     "metadata": {},
     "output_type": "execute_result"
    }
   ],
   "source": [
    "y_actual = Y_test\n",
    "y_actual.head()"
   ]
  },
  {
   "cell_type": "code",
   "execution_count": 54,
   "id": "9cc9911f-6d5c-4c54-bae9-5c48e998ffc2",
   "metadata": {},
   "outputs": [
    {
     "data": {
      "image/png": "[encoded data removed]",
      "text/plain": [
       "<Figure size 640x480 with 1 Axes>"
      ]
     },
     "metadata": {},
     "output_type": "display_data"
    }
   ],
   "source": [
    "sns.regplot(x=y_actual, y=y_pred, line_kws={'color': 'black'})\n",
    "plt.plot([min(y_actual), max(y_actual)], [min(y_actual), max(y_actual)], color='red', linestyle='--')\n",
    "plt.xlabel(\"Actual price\")\n",
    "plt.ylabel(\"Predicted price\")\n",
    "plt.grid(alpha=0.7, linestyle=\"--\")\n",
    "plt.show()"
   ]
  },
  {
   "cell_type": "code",
   "execution_count": null,
   "id": "e28c9df2-c2f0-485d-b57f-2983fe8a2ab2",
   "metadata": {},
   "outputs": [],
   "source": [
    "residuals = y_actual - y_pred\n",
    "residuals.head()"
   ]
  },
  {
   "cell_type": "code",
   "execution_count": null,
   "id": "af1fbabf-bbb5-4aab-9dc9-3a14ba5d2351",
   "metadata": {},
   "outputs": [],
   "source": [
    "MSE = np.mean(residuals ** 2)\n",
    "rMSE = np.sqrt(MSE)\n",
    "rMSE"
   ]
  },
  {
   "cell_type": "code",
   "execution_count": null,
   "id": "133e7036-9bf6-4da1-99be-ba9a8e9872f6",
   "metadata": {},
   "outputs": [],
   "source": [
    "print(f\"${rMSE:.2f}\")"
   ]
  },
  {
   "cell_type": "code",
   "execution_count": null,
   "id": "536a982d-7a6d-46e1-a49e-1f730caa71dd",
   "metadata": {},
   "outputs": [],
   "source": [
    "df[df[\"carat\"] == 1.5]"
   ]
  },
  {
   "cell_type": "code",
   "execution_count": null,
   "id": "b1c70b10-41e2-4932-b287-1b4481a46937",
   "metadata": {},
   "outputs": [],
   "source": []
  },
  {
   "cell_type": "code",
   "execution_count": null,
   "id": "e4c2ff03-5d99-4540-a879-b1673d5b516f",
   "metadata": {},
   "outputs": [],
   "source": []
  },
  {
   "cell_type": "code",
   "execution_count": null,
   "id": "bf25e65b-5f59-4535-bf91-93f46a1e93f9",
   "metadata": {},
   "outputs": [],
   "source": []
  },
  {
   "cell_type": "code",
   "execution_count": null,
   "id": "77d50366-c2aa-4dd8-b821-a1a8f99fd404",
   "metadata": {},
   "outputs": [],
   "source": []
  },
  {
   "cell_type": "code",
   "execution_count": null,
   "id": "85e2f48c-c14c-4d18-bae3-dd84237760d0",
   "metadata": {},
   "outputs": [],
   "source": []
  },
  {
   "cell_type": "code",
   "execution_count": null,
   "id": "1391e4a2-6893-45c2-99f4-87fddecec721",
   "metadata": {},
   "outputs": [],
   "source": []
  },
  {
   "cell_type": "code",
   "execution_count": null,
   "id": "56f95b26-c752-4b8e-ac69-4de036e1695d",
   "metadata": {},
   "outputs": [],
   "source": []
  },
  {
   "cell_type": "code",
   "execution_count": null,
   "id": "a0235ea3-2b95-4b4d-8bd6-ecc14e5a15f3",
   "metadata": {},
   "outputs": [],
   "source": []
  },
  {
   "cell_type": "code",
   "execution_count": null,
   "id": "9a9a0b2c-83de-4023-b6ef-8c89f2a98173",
   "metadata": {},
   "outputs": [],
   "source": []
  },
  {
   "cell_type": "code",
   "execution_count": null,
   "id": "215c9d84-91d4-40b1-b4cf-d732b57231b3",
   "metadata": {},
   "outputs": [],
   "source": []
  },
  {
   "cell_type": "code",
   "execution_count": null,
   "id": "cca0b52c-6b80-44fb-bb05-89843c0614a1",
   "metadata": {},
   "outputs": [],
   "source": []
  },
  {
   "cell_type": "code",
   "execution_count": null,
   "id": "5d6b6750-0589-426f-b0fa-de2bdd5179d9",
   "metadata": {},
   "outputs": [],
   "source": []
  },
  {
   "cell_type": "code",
   "execution_count": null,
   "id": "6f6b33de-1b9f-42d4-af75-16c726c649d8",
   "metadata": {},
   "outputs": [],
   "source": []
  },
  {
   "cell_type": "code",
   "execution_count": null,
   "id": "96185023-7213-4589-bba6-71d2fbe581d6",
   "metadata": {},
   "outputs": [],
   "source": []
  },
  {
   "cell_type": "code",
   "execution_count": null,
   "id": "bb1e4403-f8e5-4199-a997-0d3538d11953",
   "metadata": {},
   "outputs": [],
   "source": []
  },
  {
   "cell_type": "code",
   "execution_count": null,
   "id": "a9ee050c-bd12-4f1a-a0e6-627c924e1a85",
   "metadata": {},
   "outputs": [],
   "source": []
  },
  {
   "cell_type": "code",
   "execution_count": null,
   "id": "ee4ca9b9-71b1-40cf-86ff-3888ae4840fd",
   "metadata": {},
   "outputs": [],
   "source": []
  },
  {
   "cell_type": "code",
   "execution_count": null,
   "id": "913064d6-9536-4a3d-8b87-bd903282f581",
   "metadata": {},
   "outputs": [],
   "source": []
  },
  {
   "cell_type": "code",
   "execution_count": null,
   "id": "c2f01045-c499-489e-8edf-5aecd14a1d91",
   "metadata": {},
   "outputs": [],
   "source": []
  },
  {
   "cell_type": "code",
   "execution_count": null,
   "id": "23555711-39e6-4f2a-b33a-a80a1522fbd4",
   "metadata": {},
   "outputs": [],
   "source": []
  },
  {
   "cell_type": "code",
   "execution_count": null,
   "id": "d7b8133a-dfb4-40ec-8d3e-c129faabe55b",
   "metadata": {},
   "outputs": [],
   "source": []
  },
  {
   "cell_type": "code",
   "execution_count": null,
   "id": "5e1ccc44-487c-477f-81d7-b92abeaf7e9f",
   "metadata": {},
   "outputs": [],
   "source": []
  },
  {
   "cell_type": "code",
   "execution_count": null,
   "id": "0adef16c-573c-466f-b11e-a7dbfc14a03d",
   "metadata": {},
   "outputs": [],
   "source": []
  },
  {
   "cell_type": "code",
   "execution_count": null,
   "id": "962d6b15-6d3a-4501-a0a9-d69111de5160",
   "metadata": {},
   "outputs": [],
   "source": []
  },
  {
   "cell_type": "code",
   "execution_count": null,
   "id": "385835cf-f604-410c-8a64-c3b2883824fc",
   "metadata": {},
   "outputs": [],
   "source": []
  },
  {
   "cell_type": "code",
   "execution_count": null,
   "id": "584fe503-e896-49e1-b02e-cd209f9e37b1",
   "metadata": {},
   "outputs": [],
   "source": []
  },
  {
   "cell_type": "code",
   "execution_count": null,
   "id": "85a28d87-679c-4b0d-8e6c-897d517740a2",
   "metadata": {},
   "outputs": [],
   "source": []
  },
  {
   "cell_type": "code",
   "execution_count": null,
   "id": "91b075de-c77c-4bb1-9942-8ba58bc52ea2",
   "metadata": {},
   "outputs": [],
   "source": []
  }
 ],
 "metadata": {
  "kernelspec": {
   "display_name": "Python 3 (ipykernel)",
   "language": "python",
   "name": "python3"
  },
  "language_info": {
   "codemirror_mode": {
    "name": "ipython",
    "version": 3
   },
   "file_extension": ".py",
   "mimetype": "text/x-python",
   "name": "python",
   "nbconvert_exporter": "python",
   "pygments_lexer": "ipython3",
   "version": "3.11.6"
  }
 },
 "nbformat": 4,
 "nbformat_minor": 5
}
